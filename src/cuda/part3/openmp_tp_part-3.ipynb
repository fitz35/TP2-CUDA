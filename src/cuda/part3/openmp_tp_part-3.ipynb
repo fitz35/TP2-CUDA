{
 "cells": [
  {
   "cell_type": "markdown",
   "metadata": {},
   "source": [
    "# TP OpenMP - October 2022\n",
    "## Part 1 : Pi\n",
    "### Compilation"
   ]
  },
  {
   "cell_type": "code",
   "execution_count": 14,
   "metadata": {},
   "outputs": [],
   "source": [
    "!g++ -o binaries/tp_openmp_part_3_fib binaries/tp_openmp_part_3_fib.cpp -fopenmp -O3 -march=native\n",
    "!g++ -o binaries/tp_openmp_part_3_fib_parallel binaries/tp_openmp_part_3_fib_parallel.cpp -fopenmp -O3 -march=native"
   ]
  },
  {
   "cell_type": "markdown",
   "metadata": {},
   "source": [
    "### Performance evaluation"
   ]
  },
  {
   "cell_type": "code",
   "execution_count": 13,
   "metadata": {},
   "outputs": [],
   "source": [
    "import os\n",
    "import subprocess\n",
    "\n",
    "try:\n",
    "    os.remove(\"../pi_Stats.csv\")\n",
    "    f=open(\"../pi_Stats.csv\",\"w+\")\n",
    "    f.write(\"version,num_steps,nbcore,runtime,pi\\n\")\n",
    "    f.close()\n",
    "except OSError:\n",
    "    pass\n",
    "\n",
    "num_steps = [10000, 1000000, 100000000]#, 1000000000000]\n",
    "nb_core = [1, 2, 4, 8]\n",
    "repeats = range(0,10)\n",
    "\n",
    "for nsteps in num_steps:\n",
    "    for ncore in nb_core:\n",
    "        for repeat in repeats:\n",
    "            args = (\"binaries/tp_openmp_part_1_pi\", \"-C\", str(ncore), \"-N\", str(nsteps))\n",
    "            popen = subprocess.Popen(args, stdout=subprocess.PIPE)\n",
    "            popen.wait()\n",
    "\n",
    "            args = (\"binaries/tp_openmp_part_1_pi_impl_critical\", \"-C\", str(ncore), \"-N\", str(nsteps))\n",
    "            popen = subprocess.Popen(args, stdout=subprocess.PIPE)\n",
    "            popen.wait()\n",
    "\n",
    "            args = (\"binaries/tp_openmp_part_1_pi_impl_reduce\", \"-C\", str(ncore), \"-N\", str(nsteps))\n",
    "            popen = subprocess.Popen(args, stdout=subprocess.PIPE)\n",
    "            popen.wait()\n",
    "\n",
    "            args = (\"binaries/tp_openmp_part_1_pi_impl_atomic\", \"-C\", str(ncore), \"-N\", str(nsteps))\n",
    "            popen = subprocess.Popen(args, stdout=subprocess.PIPE)\n",
    "            popen.wait()\n",
    "\n",
    "            args = (\"binaries/tp_openmp_part_1_pi_splitArray\", \"-C\", str(ncore), \"-N\", str(nsteps))\n",
    "            popen = subprocess.Popen(args, stdout=subprocess.PIPE)\n",
    "            popen.wait()\n",
    "\n"
   ]
  },
  {
   "cell_type": "markdown",
   "metadata": {},
   "source": [
    "### Performance analysis\n",
    "#### Weak scaling"
   ]
  },
  {
   "cell_type": "code",
   "execution_count": 32,
   "metadata": {},
   "outputs": [
    {
     "name": "stderr",
     "output_type": "stream",
     "text": [
      "No artists with labels found to put in legend.  Note that artists whose label start with an underscore are ignored when legend() is called with no argument.\n"
     ]
    },
    {
     "data": {
      "image/png": "[encoded data removed]",
      "text/plain": [
       "<Figure size 640x480 with 1 Axes>"
      ]
     },
     "metadata": {},
     "output_type": "display_data"
    }
   ],
   "source": [
    "import matplotlib.pyplot as plt\n",
    "import numpy as np\n",
    "from numpy import genfromtxt\n",
    "\n",
    "import pandas as pd\n",
    "\n",
    "import warnings\n",
    "warnings.filterwarnings('ignore')\n",
    "\n",
    "df = pd.read_csv('../pi_Stats.csv',header=0,dtype={\n",
    "                    'version': str,\n",
    "                    'nbcore': \"int64\",\n",
    "                    'num_steps' : \"int64\",\n",
    "                    'runtime' : \"float64\",\n",
    "                    'pi' : \"float64\"\n",
    "                 }\n",
    "                 )\n",
    "\n",
    "\n",
    "color_num_steps = {10000 : \"blue\", 1000000 : \"red\", 100000000 : \"green\", 10000000000 : \"black\"}\n",
    "\n",
    "for num_steps in df['num_steps']:\n",
    "    #Atomic\n",
    "    df_plot = df[(df['num_steps'] == int(num_steps))]\n",
    "    df_plot = df_plot[df_plot['version'] == \"Atomic\"]\n",
    "    \n",
    "    mean_stats = df_plot.groupby(['num_steps','version','nbcore']).mean().reset_index()\n",
    "    \n",
    "    plt.plot(mean_stats['nbcore'], mean_stats['runtime'],linestyle=\"solid\",color=color_num_steps[num_steps])\n",
    "    plt.yscale('log')\n",
    "    plt.xscale('log')\n",
    "    plt.scatter(df_plot['nbcore'], df_plot['runtime'],color=color_num_steps[num_steps])\n",
    "\n",
    "    #Reduce\n",
    "    df_plot = df[(df['num_steps'] == num_steps) & (df['version'] == \"Reduce\")]\n",
    "    mean_stats = df_plot.groupby(['num_steps','version','nbcore']).mean().reset_index()\n",
    "    \n",
    "    plt.plot(mean_stats['nbcore'], mean_stats['runtime'],linestyle=\"dashed\",color=color_num_steps[num_steps])\n",
    "    plt.yscale('log')\n",
    "    plt.xscale('log')\n",
    "    plt.scatter(df_plot['nbcore'], df_plot['runtime'],color=color_num_steps[num_steps])\n",
    "\n",
    "    #Critical\n",
    "    df_plot = df[(df['num_steps'] == num_steps) & (df['version'] == \"Critical\")]\n",
    "    mean_stats = df_plot.groupby(['num_steps','version','nbcore']).mean().reset_index()\n",
    "    \n",
    "    plt.plot(mean_stats['nbcore'], mean_stats['runtime'],linestyle=\"dotted\",color=color_num_steps[num_steps])\n",
    "    plt.yscale('log')\n",
    "    plt.xscale('log')\n",
    "    plt.scatter(df_plot['nbcore'], df_plot['runtime'],color=color_num_steps[num_steps])\n",
    "\n",
    "    #SplitArray\n",
    "    df_plot = df[(df['num_steps'] == num_steps) & (df['version'] == \"Split_array\")]\n",
    "    mean_stats = df_plot.groupby(['num_steps','version','nbcore']).mean().reset_index()\n",
    "    \n",
    "    plt.plot(mean_stats['nbcore'], mean_stats['runtime'],linestyle=(5, (10, 3)),color=color_num_steps[num_steps])\n",
    "    plt.yscale('log')\n",
    "    plt.xscale('log')\n",
    "    plt.scatter(df_plot['nbcore'], df_plot['runtime'],color=color_num_steps[num_steps])\n",
    "\n",
    "    #Sequential\n",
    "    df_plot = df[(df['num_steps'] == num_steps) & (df['version'] == \"Sequential\")]\n",
    "    mean_stats = df_plot.groupby(['num_steps','version','nbcore']).mean().reset_index()\n",
    "    \n",
    "    plt.plot(mean_stats['nbcore'], mean_stats['runtime'],linestyle= (0, (3, 5, 1, 5, 1, 5)),color=color_num_steps[num_steps])\n",
    "    plt.yscale('log')\n",
    "    plt.xscale('log')\n",
    "    plt.scatter(df_plot['nbcore'], df_plot['runtime'],color=color_num_steps[num_steps])\n",
    "    \n",
    "plt.legend()\n",
    "plt.show()"
   ]
  },
  {
   "cell_type": "code",
   "execution_count": null,
   "metadata": {},
   "outputs": [],
   "source": []
  },
  {
   "cell_type": "markdown",
   "metadata": {},
   "source": [
    "#### Strong Scaling"
   ]
  },
  {
   "cell_type": "code",
   "execution_count": null,
   "metadata": {},
   "outputs": [],
   "source": []
  },
  {
   "cell_type": "markdown",
   "metadata": {},
   "source": [
    "### Discussion"
   ]
  }
 ],
 "metadata": {
  "kernelspec": {
   "display_name": "Python 3.10.6 64-bit ('coursGPU')",
   "language": "python",
   "name": "python3"
  },
  "language_info": {
   "codemirror_mode": {
    "name": "ipython",
    "version": 3
   },
   "file_extension": ".py",
   "mimetype": "text/x-python",
   "name": "python",
   "nbconvert_exporter": "python",
   "pygments_lexer": "ipython3",
   "version": "3.10.6"
  },
  "orig_nbformat": 4,
  "vscode": {
   "interpreter": {
    "hash": "b2296d4fc5760e9b4bf73bcba7728fe102a9848d6523830052fb9e375192a236"
   }
  }
 },
 "nbformat": 4,
 "nbformat_minor": 2
}
